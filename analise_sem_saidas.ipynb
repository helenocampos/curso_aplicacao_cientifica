{
 "cells": [
  {
   "cell_type": "markdown",
   "id": "8c42e9ff-a8c9-4611-997b-c96b2433bceb",
   "metadata": {},
   "source": [
    "# Exemplo de Análise de dados - Dengue entre 2010 - 2019"
   ]
  },
  {
   "cell_type": "markdown",
   "id": "ba47fef0-5235-46b7-8936-69d4063a8ed4",
   "metadata": {},
   "source": [
    "## O presente notebook tem propósito didático e se destina ao ensino de rotinas em Python para a análise de dados."
   ]
  },
  {
   "cell_type": "markdown",
   "id": "b0878859-b300-4f8a-876d-48707eec1d4d",
   "metadata": {},
   "source": [
    "> O dataset utilizado neste notebook se encontra em Rachel Lowe. (2021). Data and R code to accompany 'Combined effects of hydrometeorological hazards and urbanisation on dengue risk in Brazil: a spatiotemporal modelling study' (Version v1.0.0). Zenodo. http://doi.org/10.5281/zenodo.4632205\n",
    "\n",
    "> Repositório do estudo original: https://github.com/drrachellowe/hydromet_dengue/tree/main\n",
    "\n",
    "> Link para o artigo publicado https://www.thelancet.com/journals/lanplh/article/PIIS2542-5196(20)30292-8/fulltext#:~:text=The%20dataset%20included%2012%20895,22%E2%80%931%C2%B767%5D\n"
   ]
  },
  {
   "cell_type": "markdown",
   "id": "e98e0ddb-f164-4edc-9640-3d4e326711a5",
   "metadata": {},
   "source": [
    "### Bibliotecas importantes para análise de dados"
   ]
  },
  {
   "cell_type": "code",
   "execution_count": null,
   "id": "097d44d9-2a97-4db8-b46a-c08bfd9f3628",
   "metadata": {},
   "outputs": [],
   "source": [
    "import pandas as pd\n",
    "import matplotlib.pyplot as plt"
   ]
  },
  {
   "cell_type": "markdown",
   "id": "e3d962f0-a8c7-46f9-a52f-4a9ad8d5c4b7",
   "metadata": {},
   "source": [
    "### Dataset sobre casos de dengue nas cidades brasileiras"
   ]
  },
  {
   "cell_type": "markdown",
   "id": "49b28c74-94e9-4fd0-86f7-5f7c3a003ae1",
   "metadata": {},
   "source": [
    "Vamos carregar e entender o dataset"
   ]
  },
  {
   "cell_type": "code",
   "execution_count": null,
   "id": "e08dcb18-9ffb-48a5-b4e1-260a0593b436",
   "metadata": {},
   "outputs": [],
   "source": [
    "df = pd.read_csv('data_2000_2019.csv') # Data frame\n",
    "df"
   ]
  },
  {
   "cell_type": "code",
   "execution_count": null,
   "id": "71b37001-de46-410b-8cb7-013261aaf4c0",
   "metadata": {},
   "outputs": [],
   "source": [
    "df.columns # Acesso aos rótulos das colunas"
   ]
  },
  {
   "cell_type": "code",
   "execution_count": null,
   "id": "68df5412-b744-4c86-86e6-20a588016544",
   "metadata": {},
   "outputs": [],
   "source": [
    "len(df['micro_code'].unique()) # len(): tamanho do objeto, unique(): retorna valores únicos"
   ]
  },
  {
   "cell_type": "code",
   "execution_count": null,
   "id": "02d50421-e5ed-4b8b-96b6-ab7f88d0726a",
   "metadata": {},
   "outputs": [],
   "source": [
    "# Esta linha de código filtra o DataFrame df para incluir apenas linhas onde a coluna 'micro_name_ibge' contém \n",
    "# a string 'RIO DE JANEIRO'. Em seguida, extrai os valores únicos da coluna pop_density para essas linhas.\n",
    "\n",
    "df[df['micro_name_ibge'].str.contains('RIO DE JANEIRO')]['pop_density'].unique()"
   ]
  },
  {
   "cell_type": "markdown",
   "id": "e0b31426-655b-4aad-965f-9bace0bee591",
   "metadata": {},
   "source": [
    "### Analisando a relação climática com os casos de dengue"
   ]
  },
  {
   "cell_type": "markdown",
   "id": "6b5e364b-1a16-4dd3-ac39-61134f94dda0",
   "metadata": {},
   "source": [
    "#### 1) Existe uma correlação entre as variáveis climáticas (temperatura máxima, temperatura mínima, índice de severidade de seca) e o número de casos de dengue?\n",
    "\n",
    "- Análise de correlação entre dengue_cases, tmax, tmin, pdsi (índice de seca)\n",
    " - Scatter plot dessas variáveis\n",
    " \n"
   ]
  },
  {
   "cell_type": "code",
   "execution_count": null,
   "id": "3482678f-6b73-44ad-b565-eadfae6bff9d",
   "metadata": {},
   "outputs": [],
   "source": [
    "columns_of_interest = ['dengue_cases', 'tmax', 'tmin', 'pdsi']\n",
    "df_climate = df[columns_of_interest]\n",
    "\n",
    "# Calcula a correlação entre as variáveis climáticas e os casos de dengue\n",
    "# Por 'default', o método pandas.DataFrame.corr calcula o coeficiente de correlação de Pearson.\n",
    "# Pearson só é válido para relações lineares.\n",
    "\n",
    "correlation = df_climate.corr() \n",
    "print(correlation)"
   ]
  },
  {
   "cell_type": "markdown",
   "id": "4fa68425",
   "metadata": {},
   "source": [
    "### Gráfico de dispersão (scatter plot)\n",
    "`plt.sublots (1, 3)`: Cria uma grade de subplots. Os parâmetros (1, 3) especificam 1 linha e 3 colunas, para que tenhamos 3 subplots lado a lado.\n",
    "\n",
    "`fig`: Representa a figura inteira (a tela que mantém todos os subplots).\n",
    "\n",
    "`axes`: array dos objetos dos eixos, cada um representando um subplot individual. Como existem 3 subplots, `axes[0]`, `axes[1]` e `axes[2]` referem-se ao primeiro, segundo e terceiro subplot, respectivamente.\n",
    "\n",
    "`figsize = (15, 5)`: Especifica o tamanho de toda a figura - 15 unidades de largura e 5 unidades de altura.\n",
    "\n",
    "No exemplo abaixo, estamos preenchendo somente o primeiro subplot, para exemplificar o uso de subplots."
   ]
  },
  {
   "cell_type": "code",
   "execution_count": null,
   "id": "672a2e4a-87de-42f3-bcdb-57303a8a958e",
   "metadata": {},
   "outputs": [],
   "source": [
    "fig, axes = plt.subplots(1, 3, figsize=(15, 5))\n",
    "\n",
    "# axes[0] refere-se ao primeiro subplot\n",
    "\n",
    "axes[0].scatter(df['tmax'], df['dengue_cases']) # Cria o gráfico de dispersão, onde o eixo x é 'tmax' e o y 'dengue_cases'\n",
    "axes[0].set_xlabel('Temperatura Máxima (tmax)') # Rótulo para o eixo x\n",
    "axes[0].set_ylabel('Casos de Dengue') # Rótulo para o eixo y\n",
    "axes[0].set_title('Casos de Dengue vs. Temperatura Máxima') # Título do primeiro subplot\n",
    "\n",
    "\n",
    "plt.tight_layout() # Ajusta o layout dos subplots para evitar gráficos sobrepostos ou apertados. \n",
    "#Ele garante que rótulos, títulos e subplots se encaixem perfeitamente dentro da figura.\n",
    "\n",
    "plt.show() # Exibição do gráfico de dispersão"
   ]
  },
  {
   "cell_type": "markdown",
   "id": "fa0fdab2-57eb-4bdc-933e-29886fb253af",
   "metadata": {},
   "source": [
    "#### 2) Como diferentes regimes climáticos (coluna main_climate) afetam a incidência de dengue em diferentes regiões?\n",
    "\n",
    "-  Analise com gráfico de barras da média de casos agrupados por tipo de clima  (main_climate )\n",
    "    - Agrupar os dados por tipo de clima e fazer a média de cada um\n",
    "    - Ordenar os dados agrupados para melhor visualização\n",
    "    - Plotar o gráfico de barras (barh) dos dados agrupados\n",
    "\n",
    "- Boxplot da distribuição de casos por tipo climático\n",
    "\n",
    "- Tipos de regimes climáticos (Classificação climática de Köppen-Geiger):\n",
    "    - Af - clima equatorial\n",
    "    - Aw ou As - clima de savana, etc\n",
    "    - Para mais informações: https://pt.wikipedia.org/wiki/Classifica%C3%A7%C3%A3o_clim%C3%A1tica_de_K%C3%B6ppen-Geiger#:~:text=No%20esquema%20da%20classifica%C3%A7%C3%A3o%20clim%C3%A1tica,indica%20o%20n%C3%ADvel%20de%20calor."
   ]
  },
  {
   "cell_type": "markdown",
   "id": "714f7de1",
   "metadata": {},
   "source": [
    "### Gráfico de barras\n",
    "\n",
    "**Agrupamento de dados por tipo de clima e calculando os casos médios de dengue:**\n",
    "\n",
    "```python\n",
    "df.groupby('main_climate') # Agrupa o DataFrame pela coluna 'main_climate'\n",
    "['dengue_cases'].mean() # Dentro de cada grupo climático, a média ('mean') dos casos de dengue é calculada.\n",
    ".reset_index() # Redefine o índice, criando um novo DataFrame ('climate_dengue') com colunas 'main_climate' (tipo de clima) e dengue_cases (média dos casos).\n",
    "```\n",
    "**Ordenando os dados para uma melhor visualização:**\n",
    "\n",
    "`.sort_values` classifica o DataFrame `climate_dengue` pelo número médio de casos de dengue (`dengue_cases`), em ordem decrescente (`ascending = false`). Isso facilita a visualização de qual tipo de clima tem os casos de dengue mais altos.\n",
    "\n",
    "**Criando um gráfico de barras horizontais:**\n",
    "```python\n",
    "plt.figure(figsize=(10, 6)) # Define o tamanho da figura (10 unidades de largura e 6 unidades de altura).\n",
    "plt.barh() # Cria um gráfico de barras horizontais.\n",
    "climate_dengue['main_climate'] # O eixo y contém os tipos climáticos.\n",
    "climate_dengue['dengue_cases'] # O eixo x contém o número médio de casos de dengue.\n",
    "color='skyblue' # Define a cor das barras para 'céu azul'.\n",
    "```\n",
    "\n",
    "**Rotulando o gráfico:**\n",
    "```python\n",
    "plt.xlabel('Média de Casos de Dengue') # Nomeia o eixo x\n",
    "plt.ylabel('Regime Climático') # Nomeia o eixo y\n",
    "plt.title('Média de Casos de Dengue por Regime Climático') # Dá nome ao gráfico\n",
    "```\n",
    "**Exibindo o gráfico:**\n",
    "> Este comando exibe o gráfico de barras: `plt.show()`"
   ]
  },
  {
   "cell_type": "markdown",
   "id": "6dea9c1a",
   "metadata": {},
   "source": [
    "#### Exemplo de script para gráfico de barras"
   ]
  },
  {
   "cell_type": "code",
   "execution_count": null,
   "id": "d190d50b-fec4-4af6-aee2-edb00b1682e2",
   "metadata": {},
   "outputs": [],
   "source": [
    "climate_dengue = df.groupby('main_climate')['dengue_cases'].mean().reset_index()\n",
    "\n",
    "# Ordenar os dados para melhor visualização\n",
    "climate_dengue = climate_dengue.sort_values(by='dengue_cases', ascending=False)\n",
    "print(climate_dengue)\n",
    "\n",
    "# Visualizar os resultados usando um gráfico de barras\n",
    "plt.figure(figsize=(10, 6))\n",
    "plt.barh(climate_dengue['main_climate'], climate_dengue['dengue_cases'], color='skyblue')\n",
    "plt.xlabel('Média de Casos de Dengue')\n",
    "plt.ylabel('Regime Climático')\n",
    "plt.title('Média de Casos de Dengue por Regime Climático')\n",
    "plt.show()"
   ]
  },
  {
   "cell_type": "markdown",
   "id": "2bb25e7a",
   "metadata": {},
   "source": [
    "### Histograma"
   ]
  },
  {
   "cell_type": "code",
   "execution_count": null,
   "id": "9d43f57f",
   "metadata": {},
   "outputs": [],
   "source": [
    "# Remove as linhas duplicadas e deixa a última ocorrência\n",
    "result_df = df.drop_duplicates(subset=['micro_code'], keep = 'last') \n",
    "print('Result DataFrame:\\n', result_df)"
   ]
  },
  {
   "cell_type": "code",
   "execution_count": null,
   "id": "af50cfa5",
   "metadata": {},
   "outputs": [],
   "source": [
    "# Histograma básico\n",
    "plt.hist(\n",
    "result_df['water_network'], \n",
    "bins= 10, color='thistle', \n",
    "edgecolor='purple',range = [0, 101])\n",
    "\n",
    "\n",
    "\n",
    "plt.xlabel('Porcentagem de acesso à rede água') \n",
    "plt.ylabel('Número de cidades') \n",
    "plt.title('Número de cidades e suas respectivas porcentagens de acesso à rede de água em 2019')\n",
    "plt.show()"
   ]
  },
  {
   "cell_type": "markdown",
   "id": "1e9f5cac",
   "metadata": {},
   "source": [
    "### Box plot\n",
    "`plt.figure(figsize=(12, 8))`: Define o tamanho da figura para 12 unidades de largura e 8 unidades de altura:\n",
    "\n",
    "**Criando o box plot**\n",
    "\n",
    "`df.boxplot()` Gera o box plot do DataFrame `df`.\n",
    "- Parâmetros\n",
    "    - `column ='dengue_cases'` : especifica que box plot deve exibir a distribuição de valores da coluna `'dengue_cases'` (representando o número de casos de dengue).\n",
    "    - `by='main_climate'`: Agrupa os dados pela comluna `'main_climate'`, que representa diferentes tipos climáticos. Isso cria um box plot separado para cada tipo de clima.\n",
    "    - `grid=False`: Desabilita as linhas de grade no gráfico.\n",
    "    - `vert=False`: Rotaciona o box plot horizontalmente para que os tipos climáticos estejam no eixo y.\n",
    "    - `showfliers=False`: Esconde outliers, que normalmente são exibidos como pontos fora da caixa.\n",
    "\n",
    "**Definindo o título e removendo a legenda padrão:**\n",
    "`plt.title('Distribuição dos Casos de Dengue por Regime Climático')` "
   ]
  },
  {
   "cell_type": "markdown",
   "id": "678ddaa5",
   "metadata": {},
   "source": [
    "#### Exemplo de script para box plot"
   ]
  },
  {
   "cell_type": "code",
   "execution_count": null,
   "id": "2efc0886-5ec3-49de-9ec2-11db64c206b2",
   "metadata": {},
   "outputs": [],
   "source": [
    "plt.figure(figsize=(12, 8))\n",
    "df.boxplot(column='dengue_cases', by='main_climate', grid=False, vert=False, showfliers=False)\n",
    "plt.title('Distribuição dos Casos de Dengue por Regime Climático')\n",
    "plt.suptitle('')  # Remove o título automático\n",
    "plt.xlabel('Casos de Dengue') # Nomeia o eixo x\n",
    "plt.ylabel('Regime Climático') # Nomeia o eixo y\n",
    "plt.show() # Exibe o box plot\n"
   ]
  },
  {
   "cell_type": "markdown",
   "id": "8819a669-c3cc-4806-88c3-077b2f9aa2cb",
   "metadata": {},
   "source": [
    "### Impacto da urbanização"
   ]
  },
  {
   "cell_type": "markdown",
   "id": "8a435173-aa8f-45b0-9b2d-f527ad3d1ebd",
   "metadata": {},
   "source": [
    "#### 1) O percentual de população urbana tem relação com o número de casos de dengue nas microregiões?\n",
    "\n",
    "- Análise de correlação entre dengue_cases, urban, e pop_density"
   ]
  },
  {
   "cell_type": "code",
   "execution_count": null,
   "id": "1d34a86e-95d5-43b5-bbd3-0cd7e0494356",
   "metadata": {},
   "outputs": [],
   "source": [
    "columns_of_interest_urban = ['dengue_cases', 'urban', 'pop_density']\n",
    "df_urban = df[columns_of_interest_urban]\n",
    "\n",
    "# Calcular a correlação entre a urbanização e os casos de dengue\n",
    "correlation_urban = df_urban.corr()\n",
    "print(correlation_urban)"
   ]
  },
  {
   "cell_type": "markdown",
   "id": "4580e7ed-2cf5-47b9-a0e4-9e9900bc2f0b",
   "metadata": {},
   "source": [
    "#### 2) Regiões com maior densidade populacional (pop_density) têm mais casos de dengue?\n",
    "       \n",
    "- Scatter plot entre dengue_cases e urban, e entre dengue_cases e pop_density\n",
    "\n",
    "> **PDSI** (Palmer Drought Severity Index - Índice de Severidade de Seca de Palmer) - usa dados de temperatura e precipitação para estimar a secura relativa. É um índice padronizado que geralmente varia de -10 (seco - extremo) a +10 (úmido - extremo). Mapas de agências operacionais como a NOAA normalmente mostram uma faixa de -4 a +4, mas valores mais extremos são possíveis. Fonte: https://climatedataguide.ucar.edu/climate-data/palmer-drought-severity-index-pdsi"
   ]
  },
  {
   "cell_type": "code",
   "execution_count": null,
   "id": "132a5e29-2832-43fa-a818-4b8b0e1ed83f",
   "metadata": {},
   "outputs": [],
   "source": [
    "fig, axes = plt.subplots(1, 2, figsize=(10, 5))\n",
    "\n",
    "# Gráfico 1: Casos de Dengue vs. População Urbana\n",
    "pcm1 = axes[0].scatter(df['urban'], df['dengue_cases'], c=df['water_network'], vmin=0, vmax=100)\n",
    "axes[0].set_xlabel('População Urbana (%)')\n",
    "axes[0].set_ylabel('Casos de Dengue')\n",
    "axes[0].set_title('Casos de Dengue vs. População Urbana')\n",
    "fig.colorbar(pcm1, ax=axes[0], shrink=0.6, location='bottom', label='Rede de água')\n",
    "\n",
    "# Gráfico 2: Casos de Dengue vs. Densidade Populacional\n",
    "pcm2 = axes[1].scatter(df['pop_density'], df['dengue_cases'], c=df['water_shortage'], vmin=0, vmax=1)\n",
    "axes[1].set_xlabel('Densidade Populacional')\n",
    "axes[1].set_title('Casos de Dengue vs. Densidade Populacional')\n",
    "fig.colorbar(pcm2, ax=axes[1], shrink=0.6, location='bottom', label='Frequência de escassez de água')\n",
    "\n",
    "plt.tight_layout()\n",
    "plt.show()"
   ]
  },
  {
   "cell_type": "markdown",
   "id": "f08acdb8-a9aa-44da-afa3-67befa78bc27",
   "metadata": {},
   "source": [
    "### Infraestrutura e saúde pública"
   ]
  },
  {
   "cell_type": "markdown",
   "id": "5b46b3e8-59df-4ea4-8284-0969f1d1c10d",
   "metadata": {},
   "source": [
    "#### 1) A falta de acesso à rede de água potável (water_network) ou a frequência de escassez de água (water_shortage) estão relacionadas ao aumento dos casos de dengue?\n",
    "\n",
    "- Análise da correlação entre dengue_cases, water_network, water_shortage"
   ]
  },
  {
   "cell_type": "code",
   "execution_count": null,
   "id": "2dbb99c9-3b0b-4dac-9f21-3877c5291768",
   "metadata": {},
   "outputs": [],
   "source": [
    "# Selecionar as colunas de interesse\n",
    "columns_of_interest_water = ['dengue_cases', 'water_network', 'water_shortage']\n",
    "df_water = df[columns_of_interest_water]\n",
    "\n",
    "# Calcular a correlação entre os casos de dengue e as variáveis relacionadas à água\n",
    "correlation_water = df_water.corr()\n",
    "print(correlation_water)"
   ]
  },
  {
   "cell_type": "markdown",
   "id": "221f0381-7013-44aa-a18c-fe0d033932c3",
   "metadata": {},
   "source": [
    "- Scatter plot p/ dengue_cases x water network,  dengue_cases x water_shortage"
   ]
  },
  {
   "cell_type": "code",
   "execution_count": null,
   "id": "f9fcc73c-ef23-454b-a80f-0007264464e1",
   "metadata": {},
   "outputs": [],
   "source": [
    "plt.figure(figsize=(10, 5))\n",
    "\n",
    "# Scatter plot 1: Acesso à rede de água\n",
    "plt.subplot(1, 2, 1)\n",
    "plt.scatter(df['water_network'], df['dengue_cases'], color='blue', alpha=0.5)\n",
    "plt.xlabel('Acesso à rede de água (%)')\n",
    "plt.ylabel('Casos de Dengue')\n",
    "plt.title('Casos de Dengue vs. Acesso à rede de água')\n",
    "\n",
    "# Scatter plot 2: Frequência de escassez de água\n",
    "plt.subplot(1, 2, 2)\n",
    "plt.scatter(df['water_shortage'], df['dengue_cases'], color='red', alpha=0.5)\n",
    "plt.xlabel('Frequência de escassez de água')\n",
    "plt.ylabel('Casos de Dengue')\n",
    "plt.title('Casos de Dengue vs. Frequência de escassez de água')\n",
    "\n",
    "plt.tight_layout()\n",
    "plt.show()"
   ]
  },
  {
   "cell_type": "markdown",
   "id": "e55101d8-d3a2-476c-bf6c-edf4928a5996",
   "metadata": {},
   "source": [
    "- Gráfico de barras com média de casos de dengue por faixas de acesso à rede de agua (water_network)"
   ]
  },
  {
   "cell_type": "code",
   "execution_count": null,
   "id": "9b000b3e-b6dc-4e94-a5c2-76fdeb77433c",
   "metadata": {},
   "outputs": [],
   "source": [
    "df['water_network_bin'] = pd.cut(df['water_network'], bins=[0, 25, 50, 75, 100], labels=['0-25%', '25-50%', '50-75%', '75-100%'])\n",
    "df_grouped_network = df.groupby('water_network_bin')['dengue_cases'].mean().reset_index()\n",
    "\n",
    "fig, axes = plt.subplots(1, 1, figsize=(5, 4))\n",
    "\n",
    "\n",
    "axes.bar(df_grouped_network['water_network_bin'], df_grouped_network['dengue_cases'], color='blue')\n",
    "axes.set_xlabel('Acesso à Rede de Água (%)')\n",
    "axes.set_ylabel('Média de Casos de Dengue')\n",
    "axes.set_title('Média de Casos de Dengue por Acesso à Rede de Água')\n",
    "\n",
    "plt.tight_layout()\n",
    "plt.show()"
   ]
  },
  {
   "cell_type": "markdown",
   "id": "03cd96ca-13fc-44b6-8fe3-1b09b3db8764",
   "metadata": {},
   "source": [
    "- Gráfico de barras com média de casos de dengue por faixas de escassez de água (water_shortage)"
   ]
  },
  {
   "cell_type": "code",
   "execution_count": null,
   "id": "3829493c-06db-4125-8248-ecbb456190a4",
   "metadata": {},
   "outputs": [],
   "source": [
    "df['water_shortage_bin'] = pd.cut(df['water_shortage'], bins=4)\n",
    "df_grouped_shortage = df.groupby('water_shortage_bin')['dengue_cases'].mean().reset_index()\n",
    "\n",
    "\n",
    "fig, axes = plt.subplots(1, 1, figsize=(5, 4))\n",
    "\n",
    "axes.bar(df_grouped_shortage['water_shortage_bin'].astype(str), df_grouped_shortage['dengue_cases'], color='red')\n",
    "axes.set_xlabel('Frequência de Escassez de Água')\n",
    "axes.set_ylabel('Média de Casos de Dengue')\n",
    "axes.set_title('Média de Casos de Dengue por Escassez de Água')\n",
    "\n",
    "plt.tight_layout()\n",
    "plt.show()"
   ]
  },
  {
   "cell_type": "markdown",
   "id": "50a3bc44-9c8a-4ba9-847b-c30c888ea212",
   "metadata": {},
   "source": [
    "####   2) Há uma diferença na incidência de casos de dengue em regiões com melhor infraestrutura em comparação com regiões mais carentes?"
   ]
  },
  {
   "cell_type": "markdown",
   "id": "22c676fc-beea-4fd5-9ca2-d20005e44e0d",
   "metadata": {},
   "source": [
    "- Criar um índice de infraestrutura e dividir as microregiões por categoria de infraestrutura: Boa e Carente.\n",
    "\n",
    "**https://www.oecd-ilibrary.org/docserver/533411815016.pdf?expires=1728096757&id=id&accname=guest&checksum=719F967E4118EED848550E57FA2C4A1F**\n",
    "\n",
    "Sugestão:\n",
    "- Normalizar urban, water_network e water_shortage\n",
    "- Index = (urban + water_network - water_shortage) / 3\n",
    "- Classificar cada microrregião de acordo com o índice. -1 até mediana = Carente, > mediana até 1 = Boa"
   ]
  },
  {
   "cell_type": "code",
   "execution_count": null,
   "id": "619e5c9e-b0e9-4d84-98ac-7d86f335b7df",
   "metadata": {},
   "outputs": [],
   "source": [
    "df['urban_norm'] = df['urban'] / 100  \n",
    "df['water_network_norm'] = df['water_network'] / 100  \n",
    "df['water_shortage_norm'] = df['water_shortage'] / df['water_shortage'].max()  # Escala para 0-1\n",
    "\n",
    "# Criando um índice de infraestrutura (maior valor indica melhor infraestrutura)\n",
    "df['infra_index'] = (df['urban_norm'] + df['water_network_norm'] - df['water_shortage_norm']) / 3\n",
    "\n",
    "# Classificando as regiões como \"boa infraestrutura\" e \"infraestrutura carente\" com base na mediana\n",
    "df['infra_category'] = pd.cut(df['infra_index'], bins=[-1, df['infra_index'].median(), 1], labels=['Carente', 'Boa'])\n",
    "\n",
    "# Exibindo algumas linhas para conferir\n",
    "df[['urban', 'water_network_norm', 'water_shortage', 'infra_index', 'infra_category']].head(10)"
   ]
  },
  {
   "cell_type": "code",
   "execution_count": null,
   "id": "9620d846-6081-43c0-93fd-ace680592a86",
   "metadata": {},
   "outputs": [],
   "source": [
    "# Calculando a média de casos de dengue por categoria de infraestrutura\n",
    "df_grouped_infra = df.groupby('infra_category')['dengue_cases'].mean().reset_index()\n",
    "\n",
    "# Exibindo a média de casos de dengue para cada grupo\n",
    "print(df_grouped_infra)\n",
    "\n",
    "# Visualizando os resultados\n",
    "import seaborn as sns # Importação da biblioteca Seaborn\n",
    "\n",
    "sns.barplot(x='infra_category', y='dengue_cases', data=df) # Para fazer o gráfico de barras com o Seaborn\n",
    "plt.xlabel('Categoria de Infraestrutura')\n",
    "plt.ylabel('Média de Casos de Dengue')\n",
    "plt.title('Casos de Dengue por Categoria de Infraestrutura')\n",
    "plt.show()\n",
    "\n",
    "# As barras pretas representam as barras de erro, para suprimir faça o argumento ci = None\n",
    "# sns.barplot(x='infra_category', y='dengue_cases', data=df, ci = None)"
   ]
  },
  {
   "cell_type": "markdown",
   "id": "409d25a6-6e06-4507-a624-484a4f28e67c",
   "metadata": {},
   "source": [
    "### Análise temporal de sazonalidade"
   ]
  },
  {
   "cell_type": "markdown",
   "id": "63092a29-e3e9-4b43-bae2-09d6fcff7ed0",
   "metadata": {},
   "source": [
    "#### 1) Como o número de casos de dengue varia ao longo dos anos e dos meses (year, month)?"
   ]
  },
  {
   "cell_type": "markdown",
   "id": "41f76c37-9038-4bd7-84ca-19fedc3b4d39",
   "metadata": {},
   "source": [
    "- Gráfico de linha mostrando o número de casos a cada ano"
   ]
  },
  {
   "cell_type": "markdown",
   "id": "ddacab05",
   "metadata": {},
   "source": [
    "`.groupby()` agrupa o DataFrame pela coluna ano. Cada valor único na coluna `year` representa um grupo diferente (por exemplo, 2018, 2019, 2020, etc.)."
   ]
  },
  {
   "cell_type": "code",
   "execution_count": null,
   "id": "ddf585ff-2c08-453a-bce7-1aa6425369ef",
   "metadata": {},
   "outputs": [],
   "source": [
    "dengue_by_year = df.groupby('year')['dengue_cases'].sum()\n",
    "dengue_by_month = df.groupby('month')['dengue_cases'].sum()\n",
    "\n",
    "plt.figure(figsize=(12, 6))\n",
    "plt.plot(dengue_by_year.index, dengue_by_year.values, marker='o')\n",
    "\n",
    "# Definir os ticks do eixo X como inteiros (anos)\n",
    "plt.xticks(ticks=dengue_by_year.index.astype(int)) \n",
    "\n",
    "plt.title('Variação dos Casos de Dengue ao Longo dos Anos')\n",
    "plt.xlabel('Ano')\n",
    "plt.ylabel('Número de Casos de Dengue')\n",
    "plt.grid(True) # Mostra as linhas de grid na figura\n",
    "plt.show()"
   ]
  },
  {
   "cell_type": "markdown",
   "id": "f11370a1-f750-41f6-b9bf-0fb80bae761f",
   "metadata": {},
   "source": [
    "- Gráfico de linha mostrando o número de casos a cada mês"
   ]
  },
  {
   "cell_type": "code",
   "execution_count": null,
   "id": "550e22c9-e1a6-41ef-9d80-9998492f89fc",
   "metadata": {},
   "outputs": [],
   "source": [
    "plt.figure(figsize=(10, 6))\n",
    "plt.plot(dengue_by_month.index, dengue_by_month.values, marker='o')\n",
    "plt.title('Variação dos Casos de Dengue ao Longo dos Meses')\n",
    "plt.xlabel('Mês')\n",
    "plt.ylabel('Número de Casos de Dengue')\n",
    "plt.xticks(range(1, 13))  # Marcadores de 1 a 12 (meses)\n",
    "plt.grid(True)\n",
    "plt.show()"
   ]
  },
  {
   "cell_type": "markdown",
   "id": "6ed54e2d-7faf-4ad3-b1e3-859461716510",
   "metadata": {},
   "source": [
    "#### 2) Existe um padrão sazonal nos casos de dengue, por exemplo, aumento em certos meses do ano?"
   ]
  },
  {
   "cell_type": "markdown",
   "id": "f58dc6c6-7e62-4595-9b77-37a92bbed5d2",
   "metadata": {},
   "source": [
    "- Mapa de calor mostrando o número de casos por mês e ano"
   ]
  },
  {
   "cell_type": "markdown",
   "id": "f01e9266",
   "metadata": {},
   "source": [
    "A função `.unstack()` reestrutura o DataFrame depois deste ter sido agrupado por ano e mês."
   ]
  },
  {
   "cell_type": "code",
   "execution_count": null,
   "id": "5cef8249-05f5-4ad6-adc1-ac294a071f8a",
   "metadata": {},
   "outputs": [],
   "source": [
    "dengue_by_year_month = df.groupby(['year', 'month'])['dengue_cases'].sum().unstack()\n",
    "print(dengue_by_year_month)\n",
    "\n",
    "# Plotando como um heatmap (mapa de calor) para visualizar melhor as variações\n",
    "import seaborn as sns\n",
    "\n",
    "plt.figure(figsize=(12, 8))\n",
    "sns.heatmap(dengue_by_year_month, cmap=\"YlGnBu\", annot=False, cbar=True)\n",
    "plt.title('Variação de Casos de Dengue por Ano e Mês')\n",
    "plt.xlabel('Mês')\n",
    "plt.ylabel('Ano')\n",
    "plt.show()"
   ]
  },
  {
   "cell_type": "markdown",
   "id": "362c93da-3960-44ba-8b99-6edbad36e6e0",
   "metadata": {},
   "source": [
    "### Análise por regiões e biomas"
   ]
  },
  {
   "cell_type": "markdown",
   "id": "fe04d38e-642e-4598-a9ca-75c0892e5465",
   "metadata": {},
   "source": [
    "#### 1) Como a distribuição de casos de dengue varia entre diferentes biomas?"
   ]
  },
  {
   "cell_type": "code",
   "execution_count": null,
   "id": "9b0bf406-b13e-456d-83ff-2cdb98a0ee5f",
   "metadata": {},
   "outputs": [],
   "source": [
    "# Agrupando por bioma\n",
    "dengue_by_biome = df.groupby('biome_name')['dengue_cases'].sum()\n",
    "\n",
    "# Visualizando a distribuição por biomas\n",
    "plt.figure(figsize=(10, 6))\n",
    "dengue_by_biome.plot(kind='bar', color='c')\n",
    "plt.title('Distribuição de Casos de Dengue por Bioma')\n",
    "plt.xlabel('Bioma')\n",
    "plt.ylabel('Número Total de Casos de Dengue')\n",
    "plt.xticks(rotation=45, ha='right')\n",
    "plt.grid(True)\n",
    "plt.show()\n"
   ]
  },
  {
   "cell_type": "markdown",
   "id": "2c6b5f7b-ddf8-4951-a44e-41cd95f490fe",
   "metadata": {},
   "source": [
    "#### 2) Existem regiões específicas que são consistentemente mais afetadas pela dengue ao longo dos anos?"
   ]
  },
  {
   "cell_type": "markdown",
   "id": "97179703-df6b-4b61-bcb4-67ac60dc16ad",
   "metadata": {},
   "source": [
    "- Gráfico de barras de número de casos (absoluto e relativo à população)  por microrregião."
   ]
  },
  {
   "cell_type": "code",
   "execution_count": null,
   "id": "b47ace2a-f4ae-4f3a-a2e6-3f407bd9278c",
   "metadata": {},
   "outputs": [],
   "source": [
    "# Calculando a soma total de casos por microregião\n",
    "total_dengue_by_region = df.groupby('micro_name_ibge')['dengue_cases'].sum()\n",
    "\n",
    "# Ordenando para encontrar as regiões mais afetadas\n",
    "top_regions = total_dengue_by_region.sort_values(ascending=False).head(10) #.head(10) pegas as 10 primeiras\n",
    "\n",
    "# Visualizando as 10 microregiões mais afetadas\n",
    "plt.figure(figsize=(12, 6))\n",
    "top_regions.plot(kind='bar', color='orange')\n",
    "plt.title('Top 10 Regiões com Maior Incidência de Dengue')\n",
    "plt.xlabel('Microregião')\n",
    "plt.ylabel('Número Total de Casos de Dengue')\n",
    "plt.xticks(rotation=45, ha='right')\n",
    "plt.grid(True)\n",
    "plt.show()\n"
   ]
  },
  {
   "cell_type": "code",
   "execution_count": null,
   "id": "939420dd-cf25-4bf5-9e4c-f37f3d0b3bef",
   "metadata": {},
   "outputs": [],
   "source": [
    "df['dengue_rel'] = df['dengue_cases']/df['population']\n",
    "\n",
    "# Calculando a soma total de casos normalizados por população por microregião\n",
    "total_dengue_by_region = df.groupby('micro_name_ibge')['dengue_rel'].sum()\n",
    "\n",
    "# Ordenando para encontrar as regiões mais afetadas\n",
    "top_regions = total_dengue_by_region.sort_values(ascending=False).head(10)\n",
    "\n",
    "# Visualizando as 10 microregiões mais afetadas\n",
    "plt.figure(figsize=(12, 6))\n",
    "top_regions.plot(kind='bar')\n",
    "plt.title('Top 10 Regiões com Maior Incidência de Dengue em relativa à população')\n",
    "plt.xlabel('Microregião')\n",
    "plt.ylabel('Número Total de Casos de Dengue / População')\n",
    "plt.xticks(rotation=45, ha='right')\n",
    "plt.grid(True)\n",
    "plt.show()\n"
   ]
  }
 ],
 "metadata": {
  "kernelspec": {
   "display_name": "Python 3 (ipykernel)",
   "language": "python",
   "name": "python3"
  },
  "language_info": {
   "codemirror_mode": {
    "name": "ipython",
    "version": 3
   },
   "file_extension": ".py",
   "mimetype": "text/x-python",
   "name": "python",
   "nbconvert_exporter": "python",
   "pygments_lexer": "ipython3",
   "version": "3.11.6"
  }
 },
 "nbformat": 4,
 "nbformat_minor": 5
}
